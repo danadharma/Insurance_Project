{
 "cells": [
  {
   "cell_type": "code",
   "execution_count": 1,
   "id": "surface-tiger",
   "metadata": {},
   "outputs": [],
   "source": [
    "#Importing csv module, numpy and matlplotlib library"
   ]
  },
  {
   "cell_type": "code",
   "execution_count": 5,
   "id": "dried-bloom",
   "metadata": {
    "scrolled": true
   },
   "outputs": [
    {
     "ename": "ModuleNotFoundError",
     "evalue": "No module named 'matplotlib'",
     "output_type": "error",
     "traceback": [
      "\u001b[1;31m---------------------------------------------------------------------------\u001b[0m",
      "\u001b[1;31mModuleNotFoundError\u001b[0m                       Traceback (most recent call last)",
      "\u001b[1;32m<ipython-input-5-69cd2892c0ec>\u001b[0m in \u001b[0;36m<module>\u001b[1;34m\u001b[0m\n\u001b[0;32m      1\u001b[0m \u001b[1;32mimport\u001b[0m \u001b[0mcsv\u001b[0m\u001b[1;33m\u001b[0m\u001b[1;33m\u001b[0m\u001b[0m\n\u001b[1;32m----> 2\u001b[1;33m \u001b[1;32mimport\u001b[0m \u001b[0mmatplotlib\u001b[0m\u001b[1;33m.\u001b[0m\u001b[0mpyplot\u001b[0m \u001b[1;32mas\u001b[0m \u001b[0mplt\u001b[0m\u001b[1;33m\u001b[0m\u001b[1;33m\u001b[0m\u001b[0m\n\u001b[0m\u001b[0;32m      3\u001b[0m \u001b[1;32mimport\u001b[0m \u001b[0mnumpy\u001b[0m \u001b[1;32mas\u001b[0m \u001b[0mnp\u001b[0m\u001b[1;33m\u001b[0m\u001b[1;33m\u001b[0m\u001b[0m\n",
      "\u001b[1;31mModuleNotFoundError\u001b[0m: No module named 'matplotlib'"
     ]
    }
   ],
   "source": [
    "import csv\n",
    "import matplotlib.pyplot as plt\n",
    "import numpy as np"
   ]
  },
  {
   "cell_type": "code",
   "execution_count": 6,
   "id": "amazing-truth",
   "metadata": {},
   "outputs": [],
   "source": [
    "#Opening the csv files containing insurance data"
   ]
  },
  {
   "cell_type": "code",
   "execution_count": 7,
   "id": "unlikely-prairie",
   "metadata": {},
   "outputs": [],
   "source": [
    "with open('insurance.csv') as insurance_data:\n",
    "    insurance_read = [{k:v for k, v in row.items()}\n",
    "                      for row in csv.DictReader(insurance_data)]"
   ]
  },
  {
   "cell_type": "markdown",
   "id": "infinite-association",
   "metadata": {},
   "source": [
    "Making lists of variables of the csv data"
   ]
  },
  {
   "cell_type": "code",
   "execution_count": 9,
   "id": "inclusive-large",
   "metadata": {},
   "outputs": [
    {
     "ename": "SyntaxError",
     "evalue": "unexpected EOF while parsing (<ipython-input-9-5425a6f9624d>, line 16)",
     "output_type": "error",
     "traceback": [
      "\u001b[1;36m  File \u001b[1;32m\"<ipython-input-9-5425a6f9624d>\"\u001b[1;36m, line \u001b[1;32m16\u001b[0m\n\u001b[1;33m    charges.append(float(item['charges'])\u001b[0m\n\u001b[1;37m                                         ^\u001b[0m\n\u001b[1;31mSyntaxError\u001b[0m\u001b[1;31m:\u001b[0m unexpected EOF while parsing\n"
     ]
    }
   ],
   "source": [
    "    age = []\n",
    "    sex = []\n",
    "    bmi = []\n",
    "    children = []\n",
    "    smoker = []\n",
    "    region = []\n",
    "    charges = []\n",
    "    \n",
    "    for item in insurance_read:\n",
    "        age.append(int(item['age']))\n",
    "        sex.append(item['sex'])\n",
    "        bmi.append(item['bmi'])\n",
    "        children.append(item['children'])\n",
    "        smoker.append(item['smoker'])\n",
    "        region.append(item['region'])\n",
    "        charges.append(float(item['charges'])"
   ]
  },
  {
   "cell_type": "markdown",
   "id": "decimal-fever",
   "metadata": {},
   "source": [
    "I am plotting all the variables versus the charges to a scatter plot. This is to get the initial hypothesis about what variable affect the insurance charges the most."
   ]
  },
  {
   "cell_type": "code",
   "execution_count": 10,
   "id": "exclusive-alaska",
   "metadata": {},
   "outputs": [
    {
     "ename": "NameError",
     "evalue": "name 'plt' is not defined",
     "output_type": "error",
     "traceback": [
      "\u001b[1;31m---------------------------------------------------------------------------\u001b[0m",
      "\u001b[1;31mNameError\u001b[0m                                 Traceback (most recent call last)",
      "\u001b[1;32m<ipython-input-10-13fc5f29865a>\u001b[0m in \u001b[0;36m<module>\u001b[1;34m\u001b[0m\n\u001b[1;32m----> 1\u001b[1;33m \u001b[0mplt\u001b[0m\u001b[1;33m.\u001b[0m\u001b[0mscatter\u001b[0m\u001b[1;33m(\u001b[0m\u001b[0mage\u001b[0m\u001b[1;33m,\u001b[0m \u001b[0mcharges\u001b[0m\u001b[1;33m,\u001b[0m \u001b[0ms\u001b[0m\u001b[1;33m=\u001b[0m\u001b[1;36m1\u001b[0m\u001b[1;33m)\u001b[0m\u001b[1;33m\u001b[0m\u001b[1;33m\u001b[0m\u001b[0m\n\u001b[0m\u001b[0;32m      2\u001b[0m \u001b[0mplt\u001b[0m\u001b[1;33m.\u001b[0m\u001b[0mscatter\u001b[0m\u001b[1;33m(\u001b[0m\u001b[0msex\u001b[0m\u001b[1;33m,\u001b[0m \u001b[0mcharges\u001b[0m\u001b[1;33m,\u001b[0m \u001b[0ms\u001b[0m\u001b[1;33m=\u001b[0m\u001b[1;36m1\u001b[0m\u001b[1;33m)\u001b[0m\u001b[1;33m\u001b[0m\u001b[1;33m\u001b[0m\u001b[0m\n\u001b[0;32m      3\u001b[0m \u001b[0mplt\u001b[0m\u001b[1;33m.\u001b[0m\u001b[0mscatter\u001b[0m\u001b[1;33m(\u001b[0m\u001b[0mbmi\u001b[0m\u001b[1;33m,\u001b[0m \u001b[0mcharges\u001b[0m\u001b[1;33m,\u001b[0m \u001b[0ms\u001b[0m\u001b[1;33m=\u001b[0m\u001b[1;36m1\u001b[0m\u001b[1;33m)\u001b[0m\u001b[1;33m\u001b[0m\u001b[1;33m\u001b[0m\u001b[0m\n\u001b[0;32m      4\u001b[0m \u001b[0mplt\u001b[0m\u001b[1;33m.\u001b[0m\u001b[0mscatter\u001b[0m\u001b[1;33m(\u001b[0m\u001b[0mchildren\u001b[0m\u001b[1;33m,\u001b[0m \u001b[0mcharges\u001b[0m\u001b[1;33m,\u001b[0m \u001b[0ms\u001b[0m\u001b[1;33m=\u001b[0m\u001b[1;36m1\u001b[0m\u001b[1;33m)\u001b[0m\u001b[1;33m\u001b[0m\u001b[1;33m\u001b[0m\u001b[0m\n\u001b[0;32m      5\u001b[0m \u001b[0mplt\u001b[0m\u001b[1;33m.\u001b[0m\u001b[0mscatter\u001b[0m\u001b[1;33m(\u001b[0m\u001b[0msmoker\u001b[0m\u001b[1;33m,\u001b[0m \u001b[0mcharges\u001b[0m\u001b[1;33m,\u001b[0m \u001b[0ms\u001b[0m\u001b[1;33m=\u001b[0m\u001b[1;36m1\u001b[0m\u001b[1;33m)\u001b[0m\u001b[1;33m\u001b[0m\u001b[1;33m\u001b[0m\u001b[0m\n",
      "\u001b[1;31mNameError\u001b[0m: name 'plt' is not defined"
     ]
    }
   ],
   "source": [
    "    plt.scatter(age, charges, s=1)\n",
    "    plt.scatter(sex, charges, s=1)\n",
    "    plt.scatter(bmi, charges, s=1)\n",
    "    plt.scatter(children, charges, s=1)\n",
    "    plt.scatter(smoker, charges, s=1)\n",
    "    plt.scatter(region, charges, s=1)\n",
    "    plt.show()"
   ]
  },
  {
   "cell_type": "markdown",
   "id": "dynamic-oklahoma",
   "metadata": {},
   "source": [
    "After plotting the other variables to charges variable. We have hyphotesized that age and smoking details are the two which affect the insurance charge the most. Lets find the stats from the data. \n",
    "\n",
    "Below is the average of cost using standard pyhton for loops. Without using numpy library. Then print the result."
   ]
  },
  {
   "cell_type": "code",
   "execution_count": 11,
   "id": "running-personal",
   "metadata": {},
   "outputs": [
    {
     "ename": "IndentationError",
     "evalue": "unexpected indent (<ipython-input-11-683ff40f575d>, line 3)",
     "output_type": "error",
     "traceback": [
      "\u001b[1;36m  File \u001b[1;32m\"<ipython-input-11-683ff40f575d>\"\u001b[1;36m, line \u001b[1;32m3\u001b[0m\n\u001b[1;33m    for cost in range(len(charges)):\u001b[0m\n\u001b[1;37m    ^\u001b[0m\n\u001b[1;31mIndentationError\u001b[0m\u001b[1;31m:\u001b[0m unexpected indent\n"
     ]
    }
   ],
   "source": [
    " total_cost = 0\n",
    "    \n",
    "    for cost in range(len(charges)):\n",
    "        total_cost += cost\n",
    "    \n",
    "        \n",
    "    average_insurance_cost = total_cost/(len(age))\n",
    "    print('The average cost of insurance in the sample is ' + str(round(average_insurance_cost, 2)) + ' dollars.')"
   ]
  },
  {
   "cell_type": "markdown",
   "id": "familiar-premiere",
   "metadata": {},
   "source": [
    "Calculating the average cost of male correspondent. Then print the result."
   ]
  },
  {
   "cell_type": "code",
   "execution_count": 8,
   "id": "dominican-local",
   "metadata": {},
   "outputs": [
    {
     "ename": "IndentationError",
     "evalue": "unexpected indent (<ipython-input-8-ecfb697e82ca>, line 3)",
     "output_type": "error",
     "traceback": [
      "\u001b[1;36m  File \u001b[1;32m\"<ipython-input-8-ecfb697e82ca>\"\u001b[1;36m, line \u001b[1;32m3\u001b[0m\n\u001b[1;33m    for item in insurance_read:\u001b[0m\n\u001b[1;37m    ^\u001b[0m\n\u001b[1;31mIndentationError\u001b[0m\u001b[1;31m:\u001b[0m unexpected indent\n"
     ]
    }
   ],
   "source": [
    "male_cost = 0\n",
    "    \n",
    "    for item in insurance_read:\n",
    "        if item['sex'] == 'male':\n",
    "            male_cost += float(item['charges'])\n",
    "    \n",
    "    average_male_cost = male_cost/(len(age))\n",
    "    print('The average insurance cost for male correspondents is ' + str(round(average_male_cost, 2)) + ' dollars.')"
   ]
  },
  {
   "cell_type": "markdown",
   "id": "distant-binary",
   "metadata": {},
   "source": [
    "Calculating average insurance cost for female correspondents with different coding. Then print the result."
   ]
  },
  {
   "cell_type": "code",
   "execution_count": 9,
   "id": "czech-student",
   "metadata": {},
   "outputs": [
    {
     "ename": "IndentationError",
     "evalue": "unexpected indent (<ipython-input-9-d14aa3445a25>, line 2)",
     "output_type": "error",
     "traceback": [
      "\u001b[1;36m  File \u001b[1;32m\"<ipython-input-9-d14aa3445a25>\"\u001b[1;36m, line \u001b[1;32m2\u001b[0m\n\u001b[1;33m    average_female_cost = female_cost/len(age)\u001b[0m\n\u001b[1;37m    ^\u001b[0m\n\u001b[1;31mIndentationError\u001b[0m\u001b[1;31m:\u001b[0m unexpected indent\n"
     ]
    }
   ],
   "source": [
    "female_cost = sum(float(d['charges']) for d in insurance_read if d['sex'] == 'female')\n",
    "    average_female_cost = female_cost/len(age)\n",
    "    \n",
    "    print('The average insurance cost for female correspondents is ' + str(round(average_female_cost, 2)) + ' dollars.')"
   ]
  },
  {
   "cell_type": "markdown",
   "id": "subject-notification",
   "metadata": {},
   "source": [
    ".Difference between male to female insurance cost. Then print the result."
   ]
  },
  {
   "cell_type": "code",
   "execution_count": 10,
   "id": "married-dimension",
   "metadata": {},
   "outputs": [
    {
     "ename": "IndentationError",
     "evalue": "unexpected indent (<ipython-input-10-0e253d2e10d6>, line 2)",
     "output_type": "error",
     "traceback": [
      "\u001b[1;36m  File \u001b[1;32m\"<ipython-input-10-0e253d2e10d6>\"\u001b[1;36m, line \u001b[1;32m2\u001b[0m\n\u001b[1;33m    print('The difference of costs between male and female correspondents is ' + str(round(difference_cost_gender, 2)) + ' dollars.')\u001b[0m\n\u001b[1;37m    ^\u001b[0m\n\u001b[1;31mIndentationError\u001b[0m\u001b[1;31m:\u001b[0m unexpected indent\n"
     ]
    }
   ],
   "source": [
    "difference_cost_gender = average_male_cost - average_female_cost\n",
    "    print('The difference of costs between male and female correspondents is ' + str(round(difference_cost_gender, 2)) + ' dollars.')"
   ]
  },
  {
   "cell_type": "markdown",
   "id": "plastic-complement",
   "metadata": {},
   "source": [
    "Why male insurance cost is more expensive than female? Do the male smoke more? Lets find out."
   ]
  },
  {
   "cell_type": "code",
   "execution_count": 11,
   "id": "surface-burton",
   "metadata": {},
   "outputs": [
    {
     "ename": "IndentationError",
     "evalue": "unexpected indent (<ipython-input-11-0ccc9635210c>, line 2)",
     "output_type": "error",
     "traceback": [
      "\u001b[1;36m  File \u001b[1;32m\"<ipython-input-11-0ccc9635210c>\"\u001b[1;36m, line \u001b[1;32m2\u001b[0m\n\u001b[1;33m    female_who_smokes = 0\u001b[0m\n\u001b[1;37m    ^\u001b[0m\n\u001b[1;31mIndentationError\u001b[0m\u001b[1;31m:\u001b[0m unexpected indent\n"
     ]
    }
   ],
   "source": [
    "male_who_smokes = 0\n",
    "    female_who_smokes = 0\n",
    "    \n",
    "    for i in insurance_read:\n",
    "        if i['sex'] == 'male' and i['smoker'] == 'yes':\n",
    "            male_who_smokes += 1\n",
    "        if i['sex'] == 'female' and i ['smoker'] == 'yes':\n",
    "            female_who_smokes += 1  \n",
    "      \n",
    "    total_male = 0\n",
    "    total_female = 0\n",
    "    \n",
    "    for i in insurance_read:\n",
    "        if i['sex'] == 'male':\n",
    "            total_male += 1\n",
    "        if i['sex'] == 'female':\n",
    "            total_female += 1\n",
    "            \n",
    "    percent_smoker_in_males = male_who_smokes/total_male\n",
    "    percent_smoker_in_females = female_who_smokes/total_female\n",
    "    \n",
    "    print('Why does the average cost between male and female correspondents differs?'\n",
    "          ' it turns out the percentage of male smoker is ' + str(round(percent_smoker_in_males * 100, 2)) + ' %, which is bigger compared to female smoker of '\n",
    "          + str(round(percent_smoker_in_females * 100, 2)) + '%')\n"
   ]
  },
  {
   "cell_type": "markdown",
   "id": "cultural-truck",
   "metadata": {},
   "source": [
    "We found out that the male who smokes are more than the female's."
   ]
  },
  {
   "cell_type": "markdown",
   "id": "operating-healthcare",
   "metadata": {},
   "source": [
    "Does the area where the correspondent lives matter to the cost of their insurances? Lets find out."
   ]
  },
  {
   "cell_type": "code",
   "execution_count": 12,
   "id": "contemporary-satellite",
   "metadata": {},
   "outputs": [
    {
     "ename": "IndentationError",
     "evalue": "unexpected indent (<ipython-input-12-01c04585f04f>, line 3)",
     "output_type": "error",
     "traceback": [
      "\u001b[1;36m  File \u001b[1;32m\"<ipython-input-12-01c04585f04f>\"\u001b[1;36m, line \u001b[1;32m3\u001b[0m\n\u001b[1;33m    def avg_insurance_cost_region(reg):\u001b[0m\n\u001b[1;37m    ^\u001b[0m\n\u001b[1;31mIndentationError\u001b[0m\u001b[1;31m:\u001b[0m unexpected indent\n"
     ]
    }
   ],
   "source": [
    "avg_cost_region = {}\n",
    "    \n",
    "    def avg_insurance_cost_region(reg):\n",
    "        total_cost_reg = sum(float(d['charges']) for d in insurance_read if d['region'] == reg)\n",
    "        avg_cost_reg = round(total_cost_reg/region.count(reg), 2)\n",
    "        \n",
    "        return avg_cost_reg\n",
    "    \n",
    "#Adding up avg_cost_region dict\n",
    "\n",
    "    avg_cost_region['Northeast'] = avg_insurance_cost_region('northeast')\n",
    "    avg_cost_region['Souetheast'] = avg_insurance_cost_region('southeast')\n",
    "    avg_cost_region['Southwest'] = avg_insurance_cost_region('southwest')\n",
    "    avg_cost_region['Northwest'] = avg_insurance_cost_region('northwest')\n",
    "    \n",
    "    print('The average cost of insurance based on regions are: ' + str(avg_cost_region))"
   ]
  },
  {
   "cell_type": "markdown",
   "id": "silver-death",
   "metadata": {},
   "source": [
    "As we found out from the code above. Difference in where the correspondents live doesnt affect the insurance charge that much."
   ]
  },
  {
   "cell_type": "markdown",
   "id": "unavailable-mambo",
   "metadata": {},
   "source": [
    "I hipothesised that the smoker pay more compared to their non-smoking counterpart. Let's validate, or invalidate, the hyphotesis. And present it in bar chart with matplotlib library."
   ]
  },
  {
   "cell_type": "code",
   "execution_count": 13,
   "id": "electoral-source",
   "metadata": {},
   "outputs": [
    {
     "ename": "IndentationError",
     "evalue": "unexpected indent (<ipython-input-13-1c7fe24d29aa>, line 2)",
     "output_type": "error",
     "traceback": [
      "\u001b[1;36m  File \u001b[1;32m\"<ipython-input-13-1c7fe24d29aa>\"\u001b[1;36m, line \u001b[1;32m2\u001b[0m\n\u001b[1;33m    non_smoker_charges = []\u001b[0m\n\u001b[1;37m    ^\u001b[0m\n\u001b[1;31mIndentationError\u001b[0m\u001b[1;31m:\u001b[0m unexpected indent\n"
     ]
    }
   ],
   "source": [
    "smoker_charges =  []\n",
    "    non_smoker_charges = []\n",
    "    \n",
    "    for detail in insurance_read:\n",
    "        if detail['smoker'] == 'yes':\n",
    "            smoker_charges.append(float(detail['charges']))\n",
    "        else:\n",
    "            non_smoker_charges.append(float(detail['charges']))\n",
    "    \n",
    "    avg_smoker_charge = np.mean(smoker_charges)\n",
    "    avg_non_smoker_charge = np.mean(non_smoker_charges)\n",
    "    \n",
    "    fig = plt.figure()\n",
    "    ax = fig.add_axes([0,0,1,1])\n",
    "    smoker_type = ['Non Smoker', 'Smoker']\n",
    "    avg_charge= [avg_non_smoker_charge, avg_smoker_charge]\n",
    "    ax.bar(smoker_type, avg_charge, width = 0.2)"
   ]
  },
  {
   "cell_type": "markdown",
   "id": "endangered-mineral",
   "metadata": {},
   "source": [
    "I also hypothesised that the age of correspondents affect the cost they pay to the insurance company. Let's find out more."
   ]
  },
  {
   "cell_type": "code",
   "execution_count": 14,
   "id": "iraqi-bryan",
   "metadata": {},
   "outputs": [
    {
     "ename": "NameError",
     "evalue": "name 'insurance_read' is not defined",
     "output_type": "error",
     "traceback": [
      "\u001b[1;31m---------------------------------------------------------------------------\u001b[0m",
      "\u001b[1;31mNameError\u001b[0m                                 Traceback (most recent call last)",
      "\u001b[1;32m<ipython-input-14-c5178fab74c5>\u001b[0m in \u001b[0;36m<module>\u001b[1;34m\u001b[0m\n\u001b[0;32m      5\u001b[0m \u001b[0mcost_age_61to64\u001b[0m \u001b[1;33m=\u001b[0m \u001b[1;33m[\u001b[0m\u001b[1;33m]\u001b[0m\u001b[1;33m\u001b[0m\u001b[1;33m\u001b[0m\u001b[0m\n\u001b[0;32m      6\u001b[0m \u001b[1;33m\u001b[0m\u001b[0m\n\u001b[1;32m----> 7\u001b[1;33m \u001b[1;32mfor\u001b[0m \u001b[0mdetail\u001b[0m \u001b[1;32min\u001b[0m \u001b[0minsurance_read\u001b[0m\u001b[1;33m:\u001b[0m\u001b[1;33m\u001b[0m\u001b[1;33m\u001b[0m\u001b[0m\n\u001b[0m\u001b[0;32m      8\u001b[0m     \u001b[1;32mif\u001b[0m \u001b[1;36m18\u001b[0m \u001b[1;33m>=\u001b[0m \u001b[0mint\u001b[0m\u001b[1;33m(\u001b[0m\u001b[0mdetail\u001b[0m\u001b[1;33m[\u001b[0m\u001b[1;34m'age'\u001b[0m\u001b[1;33m]\u001b[0m\u001b[1;33m)\u001b[0m \u001b[1;33m<\u001b[0m \u001b[1;36m31\u001b[0m\u001b[1;33m:\u001b[0m\u001b[1;33m\u001b[0m\u001b[1;33m\u001b[0m\u001b[0m\n\u001b[0;32m      9\u001b[0m         \u001b[0mcost_age_18to30\u001b[0m\u001b[1;33m.\u001b[0m\u001b[0mappend\u001b[0m\u001b[1;33m(\u001b[0m\u001b[0mfloat\u001b[0m\u001b[1;33m(\u001b[0m\u001b[0mdetail\u001b[0m\u001b[1;33m[\u001b[0m\u001b[1;34m'charges'\u001b[0m\u001b[1;33m]\u001b[0m\u001b[1;33m)\u001b[0m\u001b[1;33m)\u001b[0m\u001b[1;33m\u001b[0m\u001b[1;33m\u001b[0m\u001b[0m\n",
      "\u001b[1;31mNameError\u001b[0m: name 'insurance_read' is not defined"
     ]
    }
   ],
   "source": [
    "    cost_age_18to30 = []\n",
    "    cost_age_31to40 = []\n",
    "    cost_age_41to50 = []\n",
    "    cost_age_51to60 = []\n",
    "    cost_age_61to64 = []\n",
    "    \n",
    "    for detail in insurance_read:\n",
    "        if 18 >= int(detail['age']) < 31:\n",
    "            cost_age_18to30.append(float(detail['charges']))\n",
    "        elif 31 >= int(detail['age']) < 41:\n",
    "            cost_age_31to40.append(float(detail['charges']))\n",
    "        elif 41 >= int(detail['age']) < 51:\n",
    "            cost_age_41to50.append(float(detail['charges']))\n",
    "        elif 51 >= int(detail['age']) < 60:\n",
    "            cost_age_51to60.append(float(detail['charges']))\n",
    "        else:\n",
    "            cost_age_61to64.append(float(detail['charges']))\n",
    "            \n",
    "    avg_cost_18to30 = np.mean(cost_age_18to30)\n",
    "    avg_cost_31to40 = np.mean(cost_age_31to40)\n",
    "    avg_cost_41to50 = np.mean(cost_age_41to50)\n",
    "    avg_cost_51to60 = np.mean(cost_age_51to60)\n",
    "    avg_cost_60to64 = np.mean(cost_age_61to64)\n",
    "    \n",
    "    fig = plt.figure()\n",
    "    ax = fig.add_axes([0,0,1,1])\n",
    "    age_range = ['Age 18-30', 'Age 31-40', 'Age 41-50', 'Age 51-60', 'Age 61-64']\n",
    "    avg_charge_age = [avg_cost_18to30, avg_cost_31to40, avg_cost_41to50, avg_cost_51to60, avg_cost_60to64]\n",
    "    ax.bar(age_range, avg_charge_age, width = 0.2)\n",
    "    plt.show()"
   ]
  },
  {
   "cell_type": "markdown",
   "id": "nuclear-manchester",
   "metadata": {},
   "source": [
    "How much is the difference of costs between 10 year of age increments? In average."
   ]
  },
  {
   "cell_type": "code",
   "execution_count": 15,
   "id": "medieval-gazette",
   "metadata": {},
   "outputs": [
    {
     "ename": "NameError",
     "evalue": "name 'avg_cost_31to40' is not defined",
     "output_type": "error",
     "traceback": [
      "\u001b[1;31m---------------------------------------------------------------------------\u001b[0m",
      "\u001b[1;31mNameError\u001b[0m                                 Traceback (most recent call last)",
      "\u001b[1;32m<ipython-input-15-739e23688c25>\u001b[0m in \u001b[0;36m<module>\u001b[1;34m\u001b[0m\n\u001b[1;32m----> 1\u001b[1;33m \u001b[0mavg_cost_difference_age\u001b[0m \u001b[1;33m=\u001b[0m \u001b[1;33m(\u001b[0m\u001b[1;33m(\u001b[0m\u001b[0mavg_cost_31to40\u001b[0m\u001b[1;33m-\u001b[0m\u001b[0mavg_cost_18to30\u001b[0m\u001b[1;33m)\u001b[0m\u001b[1;33m+\u001b[0m\u001b[1;33m(\u001b[0m\u001b[0mavg_cost_41to50\u001b[0m\u001b[1;33m-\u001b[0m\u001b[0mavg_cost_31to40\u001b[0m\u001b[1;33m)\u001b[0m\u001b[1;33m+\u001b[0m\u001b[1;33m(\u001b[0m\u001b[0mavg_cost_51to60\u001b[0m\u001b[1;33m-\u001b[0m\u001b[0mavg_cost_41to50\u001b[0m\u001b[1;33m)\u001b[0m\u001b[1;33m+\u001b[0m\u001b[1;33m(\u001b[0m\u001b[0mavg_cost_60to64\u001b[0m\u001b[1;33m-\u001b[0m\u001b[0mavg_cost_51to60\u001b[0m\u001b[1;33m)\u001b[0m\u001b[1;33m)\u001b[0m\u001b[1;33m/\u001b[0m\u001b[1;36m6\u001b[0m\u001b[1;33m\u001b[0m\u001b[1;33m\u001b[0m\u001b[0m\n\u001b[0m",
      "\u001b[1;31mNameError\u001b[0m: name 'avg_cost_31to40' is not defined"
     ]
    }
   ],
   "source": [
    "avg_cost_difference_age = ((avg_cost_31to40-avg_cost_18to30)+(avg_cost_41to50-avg_cost_31to40)+(avg_cost_51to60-avg_cost_41to50)+(avg_cost_60to64-avg_cost_51to60))/6"
   ]
  }
 ],
 "metadata": {
  "kernelspec": {
   "display_name": "Python 3",
   "language": "python",
   "name": "python3"
  },
  "language_info": {
   "codemirror_mode": {
    "name": "ipython",
    "version": 3
   },
   "file_extension": ".py",
   "mimetype": "text/x-python",
   "name": "python",
   "nbconvert_exporter": "python",
   "pygments_lexer": "ipython3",
   "version": "3.8.5"
  }
 },
 "nbformat": 4,
 "nbformat_minor": 5
}
